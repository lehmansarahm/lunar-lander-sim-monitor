{
 "cells": [
  {
   "cell_type": "code",
   "id": "initial_id",
   "metadata": {
    "collapsed": true,
    "ExecuteTime": {
     "end_time": "2025-10-09T12:12:17.868505Z",
     "start_time": "2025-10-09T12:12:15.131620Z"
    }
   },
   "source": [
    "from monitor.monitor import Monitor\n",
    "from monitor.lsa import LSA\n",
    "from monitor.mdsa import MDSA\n",
    "\n",
    "EXTRACT_NEW_TRACES_AND_PREDICTIONS = True\n",
    "METRIC_TYPES = [ LSA, MDSA ]"
   ],
   "outputs": [],
   "execution_count": 1
  },
  {
   "metadata": {
    "ExecuteTime": {
     "end_time": "2025-10-09T12:12:18.055284Z",
     "start_time": "2025-10-09T12:12:17.871573Z"
    }
   },
   "cell_type": "code",
   "source": [
    "monitor = Monitor()\n",
    "print(monitor)"
   ],
   "id": "133f5ff1b67d7972",
   "outputs": [
    {
     "name": "stdout",
     "output_type": "stream",
     "text": [
      "LUNAR LANDER MONITOR PROPERTIES:\n",
      "\n",
      "\t Agent Model Path: \t\t./output/lunar_lander.keras\n",
      "\t Agent Num Actions: \t\t4\n",
      "\n",
      "\t Training Data Path: \t\t./output/latest_buffer_states.npy\n",
      "\t Training Label Path: \t\t./output/latest_buffer_gt_actions.npy\n",
      "\t Test Data Path: \t\t./input/randomly_generated.npy\n",
      "\n",
      "\t Output Trace Path: \t\t./output/latest_traces_{}.npy\n",
      "\t OUtput Prediction Path: \t./output/latest_preds.npy\n",
      "\n",
      "\t Output Video Path: \t\t./output/lunar_lander.mp4\n",
      "\t Output Video FPS: \t\t\t30\n"
     ]
    }
   ],
   "execution_count": 2
  },
  {
   "metadata": {
    "ExecuteTime": {
     "end_time": "2025-10-09T12:12:19.692599Z",
     "start_time": "2025-10-09T12:12:18.069695Z"
    }
   },
   "cell_type": "code",
   "source": [
    "if EXTRACT_NEW_TRACES_AND_PREDICTIONS:\n",
    "    monitor.extract_traces_and_preds()\n",
    "else:\n",
    "    print(\"Extracting new traces and predictions from scratch was not requested.\")\n",
    "# end if-else block"
   ],
   "id": "143cc827ee038f0a",
   "outputs": [
    {
     "name": "stdout",
     "output_type": "stream",
     "text": [
      "\u001B[1m3125/3125\u001B[0m \u001B[32m━━━━━━━━━━━━━━━━━━━━\u001B[0m\u001B[37m\u001B[0m \u001B[1m1s\u001B[0m 160us/step\n",
      "\n",
      "Agent model Q-values saved to file: ./output/latest_preds.npy with shape: (100000, 4)\n",
      "\u001B[1m3125/3125\u001B[0m \u001B[32m━━━━━━━━━━━━━━━━━━━━\u001B[0m\u001B[37m\u001B[0m \u001B[1m1s\u001B[0m 164us/step\n",
      "Monitor traces for predicted action: 0 saved to file: ./output/latest_traces_0.npy with shape: (18985, 8)\n",
      "Monitor traces for predicted action: 1 saved to file: ./output/latest_traces_1.npy with shape: (15271, 8)\n",
      "Monitor traces for predicted action: 2 saved to file: ./output/latest_traces_2.npy with shape: (50517, 8)\n",
      "Monitor traces for predicted action: 3 saved to file: ./output/latest_traces_3.npy with shape: (15227, 8)\n"
     ]
    }
   ],
   "execution_count": 3
  },
  {
   "metadata": {
    "ExecuteTime": {
     "end_time": "2025-10-09T12:12:19.706180Z",
     "start_time": "2025-10-09T12:12:19.704068Z"
    }
   },
   "cell_type": "code",
   "source": "print(\"TODO - generate some bogus data to use as test inputs\")",
   "id": "5a263e339ed5b506",
   "outputs": [
    {
     "name": "stdout",
     "output_type": "stream",
     "text": [
      "TODO - generate some bogus data to use as test inputs\n"
     ]
    }
   ],
   "execution_count": 4
  },
  {
   "metadata": {
    "ExecuteTime": {
     "end_time": "2025-10-09T12:12:19.745450Z",
     "start_time": "2025-10-09T12:12:19.709444Z"
    }
   },
   "cell_type": "code",
   "source": "monitor.calculate_surprise_scores(METRIC_TYPES)",
   "id": "c4590ad7e6383f13",
   "outputs": [
    {
     "name": "stdout",
     "output_type": "stream",
     "text": [
      "<class 'monitor.lsa.LSA'>\n",
      "<class 'monitor.mdsa.MDSA'>\n"
     ]
    }
   ],
   "execution_count": 5
  },
  {
   "metadata": {
    "ExecuteTime": {
     "end_time": "2025-10-09T12:12:19.750001Z",
     "start_time": "2025-10-09T12:12:19.748205Z"
    }
   },
   "cell_type": "code",
   "source": [
    "from monitor.monitor import DataGenerationType\n",
    "\n",
    "data_gen_types = [ DataGenerationType.RANDOM, DataGenerationType.RANDOM_BOUNDED ]\n",
    "monitor.generate_new_inputs(data_gen_types)"
   ],
   "id": "68853927b97bb519",
   "outputs": [
    {
     "name": "stdout",
     "output_type": "stream",
     "text": [
      "RANDOM: DataGenerationType.RANDOM\n",
      "EVERYONE ELSE: DataGenerationType.RANDOM_BOUNDED\n"
     ]
    }
   ],
   "execution_count": 6
  }
 ],
 "metadata": {
  "kernelspec": {
   "display_name": "Python 3",
   "language": "python",
   "name": "python3"
  },
  "language_info": {
   "codemirror_mode": {
    "name": "ipython",
    "version": 2
   },
   "file_extension": ".py",
   "mimetype": "text/x-python",
   "name": "python",
   "nbconvert_exporter": "python",
   "pygments_lexer": "ipython2",
   "version": "2.7.6"
  }
 },
 "nbformat": 4,
 "nbformat_minor": 5
}
