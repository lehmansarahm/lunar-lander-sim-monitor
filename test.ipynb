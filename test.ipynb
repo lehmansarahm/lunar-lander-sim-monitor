{
 "cells": [
  {
   "cell_type": "code",
   "id": "initial_id",
   "metadata": {
    "collapsed": true,
    "ExecuteTime": {
     "end_time": "2025-10-09T14:31:43.334026Z",
     "start_time": "2025-10-09T14:31:40.531418Z"
    }
   },
   "source": [
    "from monitor.monitor import Monitor\n",
    "from monitor.lsa import LSA\n",
    "from monitor.mdsa import MDSA\n",
    "\n",
    "EXTRACT_NEW_TRACES_AND_PREDICTIONS = False\n",
    "METRIC_TYPES = [ LSA, MDSA ]"
   ],
   "outputs": [],
   "execution_count": 1
  },
  {
   "metadata": {
    "ExecuteTime": {
     "end_time": "2025-10-09T14:31:43.530980Z",
     "start_time": "2025-10-09T14:31:43.336498Z"
    }
   },
   "cell_type": "code",
   "source": [
    "monitor = Monitor()\n",
    "print(monitor)"
   ],
   "id": "133f5ff1b67d7972",
   "outputs": [
    {
     "name": "stdout",
     "output_type": "stream",
     "text": [
      "LUNAR LANDER MONITOR PROPERTIES:\n",
      "\n",
      "\t Agent Model Path: \t\t\t./output/lunar_lander.keras\n",
      "\t Agent Num Actions: \t\t4\n",
      "\n",
      "\t Training Data Path: \t\t./output/latest_buffer_states.npy\n",
      "\t Training Label Path: \t\t./output/latest_buffer_gt_actions.npy\n",
      "\t Test Data Path: \t\t\t./input/randomly_generated.npy\n",
      "\n",
      "\t Output Trace Path: \t\t./output/latest_traces_{}.npy\n",
      "\t OUtput Prediction Path: \t./output/latest_preds.npy\n",
      "\n",
      "\t Output Video Path: \t\t./output/lunar_lander.mp4\n",
      "\t Output Video FPS: \t\t\t30\n"
     ]
    }
   ],
   "execution_count": 2
  },
  {
   "metadata": {
    "ExecuteTime": {
     "end_time": "2025-10-09T14:31:43.534814Z",
     "start_time": "2025-10-09T14:31:43.533145Z"
    }
   },
   "cell_type": "code",
   "source": [
    "if EXTRACT_NEW_TRACES_AND_PREDICTIONS:\n",
    "    monitor.extract_traces_and_preds()\n",
    "else:\n",
    "    print(\"Extracting new traces and predictions from scratch was not requested.\")\n",
    "# end if-else block"
   ],
   "id": "143cc827ee038f0a",
   "outputs": [
    {
     "name": "stdout",
     "output_type": "stream",
     "text": [
      "Extracting new traces and predictions from scratch was not requested.\n"
     ]
    }
   ],
   "execution_count": 3
  },
  {
   "metadata": {
    "ExecuteTime": {
     "end_time": "2025-10-09T14:31:43.540336Z",
     "start_time": "2025-10-09T14:31:43.538344Z"
    }
   },
   "cell_type": "code",
   "source": "print(\"TODO - generate some bogus data to use as test inputs\")",
   "id": "5a263e339ed5b506",
   "outputs": [
    {
     "name": "stdout",
     "output_type": "stream",
     "text": [
      "TODO - generate some bogus data to use as test inputs\n"
     ]
    }
   ],
   "execution_count": 4
  },
  {
   "metadata": {
    "ExecuteTime": {
     "end_time": "2025-10-09T14:31:43.555930Z",
     "start_time": "2025-10-09T14:31:43.544269Z"
    }
   },
   "cell_type": "code",
   "source": "monitor.calculate_surprise_scores(METRIC_TYPES)",
   "id": "c4590ad7e6383f13",
   "outputs": [
    {
     "name": "stdout",
     "output_type": "stream",
     "text": [
      "<class 'monitor.lsa.LSA'>\n",
      "<class 'monitor.mdsa.MDSA'>\n"
     ]
    }
   ],
   "execution_count": 5
  },
  {
   "metadata": {
    "ExecuteTime": {
     "end_time": "2025-10-09T14:31:43.644183Z",
     "start_time": "2025-10-09T14:31:43.560076Z"
    }
   },
   "cell_type": "code",
   "source": [
    "from sim.utils import DataGenerationType\n",
    "\n",
    "data_gen_types = [ DataGenerationType.RANDOM, DataGenerationType.RANDOM_BOUNDED ]\n",
    "# data_gen_types = [ DataGenerationType.RANDOM ]\n",
    "monitor.generate_new_inputs(data_gen_types)"
   ],
   "id": "68853927b97bb519",
   "outputs": [
    {
     "name": "stdout",
     "output_type": "stream",
     "text": [
      "New generated data saved to file: ./input/randomly_generated.npy\n",
      "New generated data saved to file: ./input/randomly_generated_with_bounds.npy\n"
     ]
    }
   ],
   "execution_count": 6
  },
  {
   "metadata": {
    "ExecuteTime": {
     "end_time": "2025-10-09T14:31:43.656458Z",
     "start_time": "2025-10-09T14:31:43.653608Z"
    }
   },
   "cell_type": "code",
   "source": [
    "print(monitor.TEST_DATA_PATH)\n",
    "\n",
    "import numpy as np\n",
    "test_data = np.load(monitor.TEST_DATA_PATH, allow_pickle=True)\n",
    "print(test_data.shape)\n",
    "\n",
    "bounded_filepath = \"./input/\" + str(DataGenerationType.RANDOM_BOUNDED.value) + \".npy\"\n",
    "test_bounded_data = np.load(bounded_filepath, allow_pickle=True)\n",
    "print(test_bounded_data.shape)"
   ],
   "id": "b483d9c9c757ae1d",
   "outputs": [
    {
     "name": "stdout",
     "output_type": "stream",
     "text": [
      "./input/randomly_generated.npy\n",
      "(10000, 8)\n",
      "(10000, 8)\n"
     ]
    }
   ],
   "execution_count": 7
  },
  {
   "metadata": {
    "ExecuteTime": {
     "end_time": "2025-10-09T14:31:43.668393Z",
     "start_time": "2025-10-09T14:31:43.667094Z"
    }
   },
   "cell_type": "code",
   "source": "",
   "id": "91301783931670f9",
   "outputs": [],
   "execution_count": null
  }
 ],
 "metadata": {
  "kernelspec": {
   "display_name": "Python 3",
   "language": "python",
   "name": "python3"
  },
  "language_info": {
   "codemirror_mode": {
    "name": "ipython",
    "version": 2
   },
   "file_extension": ".py",
   "mimetype": "text/x-python",
   "name": "python",
   "nbconvert_exporter": "python",
   "pygments_lexer": "ipython2",
   "version": "2.7.6"
  }
 },
 "nbformat": 4,
 "nbformat_minor": 5
}
