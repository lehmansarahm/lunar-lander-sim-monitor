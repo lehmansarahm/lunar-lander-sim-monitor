{
 "cells": [
  {
   "cell_type": "code",
   "id": "initial_id",
   "metadata": {
    "collapsed": true,
    "ExecuteTime": {
     "end_time": "2025-10-08T17:38:47.931003Z",
     "start_time": "2025-10-08T17:38:45.479354Z"
    }
   },
   "source": "from monitor.monitor import Monitor",
   "outputs": [],
   "execution_count": 1
  },
  {
   "metadata": {
    "ExecuteTime": {
     "end_time": "2025-10-08T17:38:48.097032Z",
     "start_time": "2025-10-08T17:38:47.934053Z"
    }
   },
   "cell_type": "code",
   "source": [
    "monitor = Monitor()\n",
    "print(monitor)"
   ],
   "id": "133f5ff1b67d7972",
   "outputs": [
    {
     "name": "stdout",
     "output_type": "stream",
     "text": [
      "LUNAR LANDER MONITOR PROPERTIES:\n",
      "\n",
      "\t Q-func Model Path: \t\t./output/lunar_lander.keras\n",
      "\t Q-Model Num Actions: \t\t4\n",
      "\n",
      "\t Training Data Path: \t\t./output/latest_buffer_states.npy\n",
      "\t Output Video Path: \t\t./output/lunar_lander.mp4\n",
      "\t Output Video FPS: \t\t\t30\n",
      "\n",
      "\t Monitor Trace Path: \t\t./output/latest_traces_{}.npy\n",
      "\t Model Prediction Path: \t./output/latest_preds.npy\n"
     ]
    }
   ],
   "execution_count": 2
  },
  {
   "metadata": {
    "ExecuteTime": {
     "end_time": "2025-10-08T17:38:49.644430Z",
     "start_time": "2025-10-08T17:38:48.118404Z"
    }
   },
   "cell_type": "code",
   "source": "monitor.extract_traces_and_preds()",
   "id": "143cc827ee038f0a",
   "outputs": [
    {
     "name": "stdout",
     "output_type": "stream",
     "text": [
      "\u001B[1m3125/3125\u001B[0m \u001B[32m━━━━━━━━━━━━━━━━━━━━\u001B[0m\u001B[37m\u001B[0m \u001B[1m1s\u001B[0m 162us/step\n",
      "\n",
      "Agent model Q-values saved to file: ./output/latest_preds.npy with shape: (100000, 4)\n",
      "\u001B[1m3125/3125\u001B[0m \u001B[32m━━━━━━━━━━━━━━━━━━━━\u001B[0m\u001B[37m\u001B[0m \u001B[1m1s\u001B[0m 160us/step\n",
      "Monitor traces for predicted action: 0 saved to file: ./output/latest_traces_0.npy with shape: (21442, 8)\n",
      "Monitor traces for predicted action: 1 saved to file: ./output/latest_traces_1.npy with shape: (24349, 8)\n",
      "Monitor traces for predicted action: 2 saved to file: ./output/latest_traces_2.npy with shape: (16319, 8)\n",
      "Monitor traces for predicted action: 3 saved to file: ./output/latest_traces_3.npy with shape: (37890, 8)\n"
     ]
    }
   ],
   "execution_count": 3
  },
  {
   "metadata": {
    "ExecuteTime": {
     "end_time": "2025-10-08T17:38:49.653516Z",
     "start_time": "2025-10-08T17:38:49.651925Z"
    }
   },
   "cell_type": "code",
   "source": "print(type(Monitor))",
   "id": "e44be9e0e75ae04b",
   "outputs": [
    {
     "name": "stdout",
     "output_type": "stream",
     "text": [
      "<class 'type'>\n"
     ]
    }
   ],
   "execution_count": 4
  },
  {
   "metadata": {
    "ExecuteTime": {
     "end_time": "2025-10-08T17:38:49.665928Z",
     "start_time": "2025-10-08T17:38:49.664449Z"
    }
   },
   "cell_type": "code",
   "source": "print(type(monitor))",
   "id": "184610893a5eb72",
   "outputs": [
    {
     "name": "stdout",
     "output_type": "stream",
     "text": [
      "<class 'monitor.monitor.Monitor'>\n"
     ]
    }
   ],
   "execution_count": 5
  },
  {
   "metadata": {
    "ExecuteTime": {
     "end_time": "2025-10-08T17:38:50.298064Z",
     "start_time": "2025-10-08T17:38:49.679563Z"
    }
   },
   "cell_type": "code",
   "source": [
    "from monitor.lsa import LSA\n",
    "from monitor.mdsa import MDSA\n",
    "\n",
    "metric_types = [ LSA, MDSA ]\n",
    "monitor.calculate_surprise_scores(metric_types)"
   ],
   "id": "c4590ad7e6383f13",
   "outputs": [
    {
     "name": "stdout",
     "output_type": "stream",
     "text": [
      "<class 'monitor.lsa.LSA'>\n",
      "<class 'monitor.mdsa.MDSA'>\n"
     ]
    }
   ],
   "execution_count": 6
  },
  {
   "metadata": {
    "ExecuteTime": {
     "end_time": "2025-10-08T17:38:50.306960Z",
     "start_time": "2025-10-08T17:38:50.305790Z"
    }
   },
   "cell_type": "code",
   "source": "",
   "id": "68853927b97bb519",
   "outputs": [],
   "execution_count": null
  }
 ],
 "metadata": {
  "kernelspec": {
   "display_name": "Python 3",
   "language": "python",
   "name": "python3"
  },
  "language_info": {
   "codemirror_mode": {
    "name": "ipython",
    "version": 2
   },
   "file_extension": ".py",
   "mimetype": "text/x-python",
   "name": "python",
   "nbconvert_exporter": "python",
   "pygments_lexer": "ipython2",
   "version": "2.7.6"
  }
 },
 "nbformat": 4,
 "nbformat_minor": 5
}
