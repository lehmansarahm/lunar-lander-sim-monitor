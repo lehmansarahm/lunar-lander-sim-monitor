{
 "cells": [
  {
   "cell_type": "code",
   "id": "initial_id",
   "metadata": {
    "collapsed": true,
    "ExecuteTime": {
     "end_time": "2025-10-07T14:58:47.155247Z",
     "start_time": "2025-10-07T14:58:47.131546Z"
    }
   },
   "source": [
    "import gymnasium as gym\n",
    "import imageio\n",
    "import numpy as np\n",
    "import tensorflow as tf"
   ],
   "outputs": [],
   "execution_count": 5
  },
  {
   "metadata": {
    "ExecuteTime": {
     "end_time": "2025-10-07T14:58:47.219336Z",
     "start_time": "2025-10-07T14:58:47.191147Z"
    }
   },
   "cell_type": "code",
   "source": [
    "env = gym.make('LunarLander-v3', render_mode='rgb_array')\n",
    "q_func_model = tf.keras.models.load_model(\"./output/lunar_lander_model.keras\")"
   ],
   "id": "133f5ff1b67d7972",
   "outputs": [],
   "execution_count": 6
  },
  {
   "metadata": {
    "ExecuteTime": {
     "end_time": "2025-10-07T15:00:01.657539Z",
     "start_time": "2025-10-07T15:00:00.648790Z"
    }
   },
   "cell_type": "code",
   "source": [
    "with imageio.get_writer(\"./output/lunar_lander.mp4\", fps=30) as video:\n",
    "    done = False\n",
    "    state = env.reset()[0]\n",
    "    frame = env.render()\n",
    "    video.append_data(frame)\n",
    "\n",
    "    while not done:\n",
    "        state = np.expand_dims(state, axis=0)\n",
    "        q_values = q_func_model(state)\n",
    "        action = np.argmax(q_values.numpy()[0])\n",
    "        state, _, done, _, _ = env.step(action)\n",
    "        frame = env.render()\n",
    "        video.append_data(frame)\n",
    "    # end while-loop\n",
    "# end with-block"
   ],
   "id": "723ec3824ce2a21",
   "outputs": [
    {
     "name": "stderr",
     "output_type": "stream",
     "text": [
      "IMAGEIO FFMPEG_WRITER WARNING: input image is not divisible by macro_block_size=16, resizing from (600, 400) to (608, 400) to ensure video compatibility with most codecs and players. To prevent resizing, make your input image divisible by the macro_block_size or set the macro_block_size to 1 (risking incompatibility).\n"
     ]
    }
   ],
   "execution_count": 11
  },
  {
   "metadata": {},
   "cell_type": "code",
   "outputs": [],
   "execution_count": null,
   "source": "",
   "id": "91f2e04920e33175"
  }
 ],
 "metadata": {
  "kernelspec": {
   "display_name": "Python 3",
   "language": "python",
   "name": "python3"
  },
  "language_info": {
   "codemirror_mode": {
    "name": "ipython",
    "version": 2
   },
   "file_extension": ".py",
   "mimetype": "text/x-python",
   "name": "python",
   "nbconvert_exporter": "python",
   "pygments_lexer": "ipython2",
   "version": "2.7.6"
  }
 },
 "nbformat": 4,
 "nbformat_minor": 5
}
