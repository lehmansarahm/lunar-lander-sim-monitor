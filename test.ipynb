{
 "cells": [
  {
   "cell_type": "code",
   "id": "initial_id",
   "metadata": {
    "collapsed": true,
    "ExecuteTime": {
     "end_time": "2025-10-09T18:25:14.612095Z",
     "start_time": "2025-10-09T18:25:14.610335Z"
    }
   },
   "source": [
    "from monitor.monitor import Monitor\n",
    "from monitor.lsa import LSA\n",
    "from monitor.mdsa import MDSA\n",
    "from sim.utils import LanderAction\n",
    "\n",
    "EXTRACT_NEW_TRACES_AND_PREDICTIONS = False\n",
    "METRIC_TYPES = [ LSA, MDSA ]"
   ],
   "outputs": [],
   "execution_count": 6
  },
  {
   "metadata": {
    "ExecuteTime": {
     "end_time": "2025-10-09T18:25:14.640670Z",
     "start_time": "2025-10-09T18:25:14.622628Z"
    }
   },
   "cell_type": "code",
   "source": [
    "monitor = Monitor()\n",
    "print(monitor)"
   ],
   "id": "133f5ff1b67d7972",
   "outputs": [
    {
     "name": "stdout",
     "output_type": "stream",
     "text": [
      "LUNAR LANDER MONITOR PROPERTIES:\n",
      "\n",
      "\t Agent Model Path: \t\t\t./output/lunar_lander.keras\n",
      "\t Agent Num Actions: \t\t4\n",
      "\n",
      "\t Training Data Path: \t\t./output/latest_buffer_states.npy\n",
      "\t Training Label Path: \t\t./output/latest_buffer_gt_actions.npy\n",
      "\t Test Data Path: \t\t\t./input/randomly_generated.npy\n",
      "\n",
      "\t Output Trace Path: \t\t./output/latest_traces_{}.npy\n",
      "\t OUtput Prediction Path: \t./output/latest_preds.npy\n",
      "\n",
      "\t Output Video Path: \t\t./output/lunar_lander.mp4\n",
      "\t Output Video FPS: \t\t\t30\n"
     ]
    }
   ],
   "execution_count": 7
  },
  {
   "metadata": {
    "ExecuteTime": {
     "end_time": "2025-10-09T18:25:14.654438Z",
     "start_time": "2025-10-09T18:25:14.652637Z"
    }
   },
   "cell_type": "code",
   "source": [
    "if EXTRACT_NEW_TRACES_AND_PREDICTIONS:\n",
    "    monitor.extract_traces_and_preds()\n",
    "else:\n",
    "    print(\"Extracting new traces and predictions from scratch was not requested.\")\n",
    "# end if-else block"
   ],
   "id": "143cc827ee038f0a",
   "outputs": [
    {
     "name": "stdout",
     "output_type": "stream",
     "text": [
      "Extracting new traces and predictions from scratch was not requested.\n"
     ]
    }
   ],
   "execution_count": 8
  },
  {
   "metadata": {
    "ExecuteTime": {
     "end_time": "2025-10-09T18:25:14.664943Z",
     "start_time": "2025-10-09T18:25:14.663191Z"
    }
   },
   "cell_type": "code",
   "source": "print(\"TODO - generate some bogus data to use as test inputs\")",
   "id": "5a263e339ed5b506",
   "outputs": [
    {
     "name": "stdout",
     "output_type": "stream",
     "text": [
      "TODO - generate some bogus data to use as test inputs\n"
     ]
    }
   ],
   "execution_count": 9
  },
  {
   "metadata": {
    "ExecuteTime": {
     "end_time": "2025-10-09T18:25:14.715674Z",
     "start_time": "2025-10-09T18:25:14.677853Z"
    }
   },
   "cell_type": "code",
   "source": "monitor.calculate_surprise_scores(METRIC_TYPES, LanderAction.DO_NOTHING)",
   "id": "c4590ad7e6383f13",
   "outputs": [
    {
     "name": "stderr",
     "output_type": "stream",
     "text": [
      "  0%|          | 0/1 [00:00<?, ?it/s]\n"
     ]
    },
    {
     "ename": "ValueError",
     "evalue": "shapes (8,10000) and (8,8) not aligned: 10000 (dim 1) != 8 (dim 0)",
     "output_type": "error",
     "traceback": [
      "\u001B[31m---------------------------------------------------------------------------\u001B[39m",
      "\u001B[31mValueError\u001B[39m                                Traceback (most recent call last)",
      "\u001B[36mCell\u001B[39m\u001B[36m \u001B[39m\u001B[32mIn[10]\u001B[39m\u001B[32m, line 1\u001B[39m\n\u001B[32m----> \u001B[39m\u001B[32m1\u001B[39m \u001B[43mmonitor\u001B[49m\u001B[43m.\u001B[49m\u001B[43mcalculate_surprise_scores\u001B[49m\u001B[43m(\u001B[49m\u001B[43mMETRIC_TYPES\u001B[49m\u001B[43m,\u001B[49m\u001B[43m \u001B[49m\u001B[43mLanderAction\u001B[49m\u001B[43m.\u001B[49m\u001B[43mDO_NOTHING\u001B[49m\u001B[43m)\u001B[49m\n",
      "\u001B[36mFile \u001B[39m\u001B[32m~/GitHub/lunar-lander-sim-monitor/monitor/monitor.py:72\u001B[39m, in \u001B[36mMonitor.calculate_surprise_scores\u001B[39m\u001B[34m(self, metric_types, pred_action)\u001B[39m\n\u001B[32m     69\u001B[39m output_path = \u001B[33m\"\u001B[39m\u001B[33m./output/\u001B[39m\u001B[38;5;132;01m{}\u001B[39;00m\u001B[33m_\u001B[39m\u001B[38;5;132;01m{}\u001B[39;00m\u001B[33m.npy\u001B[39m\u001B[33m\"\u001B[39m.format(metric_type.get_name(),\n\u001B[32m     70\u001B[39m                                           \u001B[38;5;28mstr\u001B[39m(pred_action.name).lower())\n\u001B[32m     71\u001B[39m metric_obj = metric_type(\u001B[38;5;28mself\u001B[39m.monitor_trace_map)\n\u001B[32m---> \u001B[39m\u001B[32m72\u001B[39m metric_scores = \u001B[43mmetric_obj\u001B[49m\u001B[43m.\u001B[49m\u001B[43mcalculate\u001B[49m\u001B[43m(\u001B[49m\u001B[38;5;28;43mself\u001B[39;49m\u001B[43m.\u001B[49m\u001B[43mtest_data\u001B[49m\u001B[43m,\u001B[49m\u001B[43m \u001B[49m\u001B[43mpred_action\u001B[49m\u001B[43m.\u001B[49m\u001B[43mvalue\u001B[49m\u001B[43m)\u001B[49m\n\u001B[32m     73\u001B[39m np.save(output_path, metric_scores, allow_pickle=\u001B[38;5;28;01mTrue\u001B[39;00m)\n\u001B[32m     74\u001B[39m \u001B[38;5;28mprint\u001B[39m(\u001B[33m\"\u001B[39m\u001B[33mNew generated data saved to file:\u001B[39m\u001B[33m\"\u001B[39m, output_path)\n",
      "\u001B[36mFile \u001B[39m\u001B[32m~/GitHub/lunar-lander-sim-monitor/monitor/mdsa.py:33\u001B[39m, in \u001B[36mMDSA.calculate\u001B[39m\u001B[34m(self, test_traces, pred_action)\u001B[39m\n\u001B[32m     31\u001B[39m     inv_cov = np.array(\u001B[38;5;28mself\u001B[39m.inv_cov_map[pred_action])\n\u001B[32m     32\u001B[39m     alpha_means_transpose = np.transpose(alpha - means_vector)\n\u001B[32m---> \u001B[39m\u001B[32m33\u001B[39m     mdsa = math.sqrt(np.dot(\u001B[43mnp\u001B[49m\u001B[43m.\u001B[49m\u001B[43mdot\u001B[49m\u001B[43m(\u001B[49m\u001B[43malpha_means_transpose\u001B[49m\u001B[43m,\u001B[49m\u001B[43m \u001B[49m\u001B[43minv_cov\u001B[49m\u001B[43m)\u001B[49m,\n\u001B[32m     34\u001B[39m                             (alpha - means_vector)))\n\u001B[32m     35\u001B[39m     mdsa_scores.append(mdsa)\n\u001B[32m     36\u001B[39m \u001B[38;5;66;03m# end for-loop\u001B[39;00m\n",
      "\u001B[31mValueError\u001B[39m: shapes (8,10000) and (8,8) not aligned: 10000 (dim 1) != 8 (dim 0)"
     ]
    }
   ],
   "execution_count": 10
  },
  {
   "metadata": {},
   "cell_type": "code",
   "source": [
    "from sim.utils import DataGenerationType\n",
    "\n",
    "data_gen_types = [ DataGenerationType.RANDOM, DataGenerationType.RANDOM_BOUNDED ]\n",
    "monitor.generate_new_inputs(data_gen_types)"
   ],
   "id": "68853927b97bb519",
   "outputs": [],
   "execution_count": null
  },
  {
   "metadata": {},
   "cell_type": "code",
   "source": [
    "import numpy as np\n",
    "\n",
    "rand_filepath = \"./input/\" + str(DataGenerationType.RANDOM.value) + \".npy\"\n",
    "rand_data = np.load(rand_filepath, allow_pickle=True)\n",
    "print(rand_filepath, \"\\t\\t\\t\\t\", rand_data.shape)\n",
    "\n",
    "bounded_filepath = \"./input/\" + str(DataGenerationType.RANDOM_BOUNDED.value) + \".npy\"\n",
    "bounded_data = np.load(bounded_filepath, allow_pickle=True)\n",
    "print(bounded_filepath, \"\\t\", bounded_data.shape)"
   ],
   "id": "b483d9c9c757ae1d",
   "outputs": [],
   "execution_count": null
  },
  {
   "metadata": {},
   "cell_type": "code",
   "source": "",
   "id": "91301783931670f9",
   "outputs": [],
   "execution_count": null
  }
 ],
 "metadata": {
  "kernelspec": {
   "display_name": "Python 3",
   "language": "python",
   "name": "python3"
  },
  "language_info": {
   "codemirror_mode": {
    "name": "ipython",
    "version": 2
   },
   "file_extension": ".py",
   "mimetype": "text/x-python",
   "name": "python",
   "nbconvert_exporter": "python",
   "pygments_lexer": "ipython2",
   "version": "2.7.6"
  }
 },
 "nbformat": 4,
 "nbformat_minor": 5
}
