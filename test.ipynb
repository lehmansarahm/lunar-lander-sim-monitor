{
 "cells": [
  {
   "cell_type": "code",
   "id": "initial_id",
   "metadata": {
    "collapsed": true,
    "ExecuteTime": {
     "end_time": "2025-10-09T14:14:23.019508Z",
     "start_time": "2025-10-09T14:14:20.220308Z"
    }
   },
   "source": [
    "from monitor.monitor import Monitor\n",
    "from monitor.lsa import LSA\n",
    "from monitor.mdsa import MDSA\n",
    "\n",
    "EXTRACT_NEW_TRACES_AND_PREDICTIONS = False\n",
    "METRIC_TYPES = [ LSA, MDSA ]"
   ],
   "outputs": [],
   "execution_count": 1
  },
  {
   "metadata": {
    "ExecuteTime": {
     "end_time": "2025-10-09T14:14:23.208528Z",
     "start_time": "2025-10-09T14:14:23.021749Z"
    }
   },
   "cell_type": "code",
   "source": [
    "monitor = Monitor()\n",
    "print(monitor)"
   ],
   "id": "133f5ff1b67d7972",
   "outputs": [
    {
     "name": "stdout",
     "output_type": "stream",
     "text": [
      "LUNAR LANDER MONITOR PROPERTIES:\n",
      "\n",
      "\t Agent Model Path: \t\t\t./output/lunar_lander.keras\n",
      "\t Agent Num Actions: \t\t4\n",
      "\n",
      "\t Training Data Path: \t\t./output/latest_buffer_states.npy\n",
      "\t Training Label Path: \t\t./output/latest_buffer_gt_actions.npy\n",
      "\t Test Data Path: \t\t\t./input/randomly_generated.npy\n",
      "\n",
      "\t Output Trace Path: \t\t./output/latest_traces_{}.npy\n",
      "\t OUtput Prediction Path: \t./output/latest_preds.npy\n",
      "\n",
      "\t Output Video Path: \t\t./output/lunar_lander.mp4\n",
      "\t Output Video FPS: \t\t\t30\n"
     ]
    }
   ],
   "execution_count": 2
  },
  {
   "metadata": {
    "ExecuteTime": {
     "end_time": "2025-10-09T14:14:23.220609Z",
     "start_time": "2025-10-09T14:14:23.218945Z"
    }
   },
   "cell_type": "code",
   "source": [
    "if EXTRACT_NEW_TRACES_AND_PREDICTIONS:\n",
    "    monitor.extract_traces_and_preds()\n",
    "else:\n",
    "    print(\"Extracting new traces and predictions from scratch was not requested.\")\n",
    "# end if-else block"
   ],
   "id": "143cc827ee038f0a",
   "outputs": [
    {
     "name": "stdout",
     "output_type": "stream",
     "text": [
      "Extracting new traces and predictions from scratch was not requested.\n"
     ]
    }
   ],
   "execution_count": 3
  },
  {
   "metadata": {
    "ExecuteTime": {
     "end_time": "2025-10-09T14:14:23.233227Z",
     "start_time": "2025-10-09T14:14:23.231222Z"
    }
   },
   "cell_type": "code",
   "source": "print(\"TODO - generate some bogus data to use as test inputs\")",
   "id": "5a263e339ed5b506",
   "outputs": [
    {
     "name": "stdout",
     "output_type": "stream",
     "text": [
      "TODO - generate some bogus data to use as test inputs\n"
     ]
    }
   ],
   "execution_count": 4
  },
  {
   "metadata": {
    "ExecuteTime": {
     "end_time": "2025-10-09T14:14:23.261569Z",
     "start_time": "2025-10-09T14:14:23.249727Z"
    }
   },
   "cell_type": "code",
   "source": "monitor.calculate_surprise_scores(METRIC_TYPES)",
   "id": "c4590ad7e6383f13",
   "outputs": [
    {
     "name": "stdout",
     "output_type": "stream",
     "text": [
      "<class 'monitor.lsa.LSA'>\n",
      "<class 'monitor.mdsa.MDSA'>\n"
     ]
    }
   ],
   "execution_count": 5
  },
  {
   "metadata": {
    "ExecuteTime": {
     "end_time": "2025-10-09T14:14:23.339182Z",
     "start_time": "2025-10-09T14:14:23.266701Z"
    }
   },
   "cell_type": "code",
   "source": [
    "from sim.utils import DataGenerationType\n",
    "\n",
    "# data_gen_types = [ DataGenerationType.RANDOM, DataGenerationType.RANDOM_BOUNDED ]\n",
    "data_gen_types = [ DataGenerationType.RANDOM ]\n",
    "monitor.generate_new_inputs(data_gen_types)"
   ],
   "id": "68853927b97bb519",
   "outputs": [],
   "execution_count": 6
  },
  {
   "metadata": {
    "ExecuteTime": {
     "end_time": "2025-10-09T14:14:23.343526Z",
     "start_time": "2025-10-09T14:14:23.341579Z"
    }
   },
   "cell_type": "code",
   "source": [
    "print(monitor.TEST_DATA_PATH)\n",
    "\n",
    "import numpy as np\n",
    "test_data = np.load(monitor.TEST_DATA_PATH, allow_pickle=True)\n",
    "print(test_data.shape)"
   ],
   "id": "b483d9c9c757ae1d",
   "outputs": [
    {
     "name": "stdout",
     "output_type": "stream",
     "text": [
      "./input/randomly_generated.npy\n",
      "(10000, 8)\n"
     ]
    }
   ],
   "execution_count": 7
  },
  {
   "metadata": {
    "ExecuteTime": {
     "end_time": "2025-10-09T14:14:23.365220Z",
     "start_time": "2025-10-09T14:14:23.364135Z"
    }
   },
   "cell_type": "code",
   "source": "",
   "id": "91301783931670f9",
   "outputs": [],
   "execution_count": null
  }
 ],
 "metadata": {
  "kernelspec": {
   "display_name": "Python 3",
   "language": "python",
   "name": "python3"
  },
  "language_info": {
   "codemirror_mode": {
    "name": "ipython",
    "version": 2
   },
   "file_extension": ".py",
   "mimetype": "text/x-python",
   "name": "python",
   "nbconvert_exporter": "python",
   "pygments_lexer": "ipython2",
   "version": "2.7.6"
  }
 },
 "nbformat": 4,
 "nbformat_minor": 5
}
