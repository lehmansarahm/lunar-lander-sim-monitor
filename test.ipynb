{
 "cells": [
  {
   "cell_type": "code",
   "id": "initial_id",
   "metadata": {
    "collapsed": true,
    "ExecuteTime": {
     "end_time": "2025-10-08T17:46:23.931641Z",
     "start_time": "2025-10-08T17:46:21.207503Z"
    }
   },
   "source": [
    "from monitor.monitor import Monitor\n",
    "from monitor.lsa import LSA\n",
    "from monitor.mdsa import MDSA\n",
    "\n",
    "EXTRACT_NEW_TRACES_AND_PREDICTIONS = False\n",
    "METRIC_TYPES = [ LSA, MDSA ]"
   ],
   "outputs": [],
   "execution_count": 1
  },
  {
   "metadata": {
    "ExecuteTime": {
     "end_time": "2025-10-08T17:46:24.121632Z",
     "start_time": "2025-10-08T17:46:23.934162Z"
    }
   },
   "cell_type": "code",
   "source": [
    "monitor = Monitor()\n",
    "print(monitor)"
   ],
   "id": "133f5ff1b67d7972",
   "outputs": [
    {
     "name": "stdout",
     "output_type": "stream",
     "text": [
      "LUNAR LANDER MONITOR PROPERTIES:\n",
      "\n",
      "\t Q-func Model Path: \t\t./output/lunar_lander.keras\n",
      "\t Q-Model Num Actions: \t\t4\n",
      "\n",
      "\t Training Data Path: \t\t./output/latest_buffer_states.npy\n",
      "\t Output Video Path: \t\t./output/lunar_lander.mp4\n",
      "\t Output Video FPS: \t\t\t30\n",
      "\n",
      "\t Monitor Trace Path: \t\t./output/latest_traces_{}.npy\n",
      "\t Model Prediction Path: \t./output/latest_preds.npy\n"
     ]
    }
   ],
   "execution_count": 2
  },
  {
   "metadata": {
    "ExecuteTime": {
     "end_time": "2025-10-08T17:46:24.134953Z",
     "start_time": "2025-10-08T17:46:24.133273Z"
    }
   },
   "cell_type": "code",
   "source": [
    "if EXTRACT_NEW_TRACES_AND_PREDICTIONS:\n",
    "    monitor.extract_traces_and_preds()\n",
    "else:\n",
    "    print(\"Extracting new traces and predictions from scratch was not requested.\")\n",
    "# end if-else block"
   ],
   "id": "143cc827ee038f0a",
   "outputs": [
    {
     "name": "stdout",
     "output_type": "stream",
     "text": [
      "Extracting new traces and predictions from scratch was not requested.\n"
     ]
    }
   ],
   "execution_count": 3
  },
  {
   "metadata": {},
   "cell_type": "code",
   "outputs": [],
   "execution_count": null,
   "source": "print(\"TODO - generate some bogus data to use as test inputs\")",
   "id": "5a263e339ed5b506"
  },
  {
   "metadata": {
    "ExecuteTime": {
     "end_time": "2025-10-08T17:46:24.151928Z",
     "start_time": "2025-10-08T17:46:24.140767Z"
    }
   },
   "cell_type": "code",
   "source": "monitor.calculate_surprise_scores(METRIC_TYPES)",
   "id": "c4590ad7e6383f13",
   "outputs": [
    {
     "name": "stdout",
     "output_type": "stream",
     "text": [
      "<class 'monitor.lsa.LSA'>\n",
      "<class 'monitor.mdsa.MDSA'>\n"
     ]
    }
   ],
   "execution_count": 4
  },
  {
   "metadata": {
    "ExecuteTime": {
     "end_time": "2025-10-08T17:46:24.164050Z",
     "start_time": "2025-10-08T17:46:24.162853Z"
    }
   },
   "cell_type": "code",
   "source": "",
   "id": "68853927b97bb519",
   "outputs": [],
   "execution_count": null
  }
 ],
 "metadata": {
  "kernelspec": {
   "display_name": "Python 3",
   "language": "python",
   "name": "python3"
  },
  "language_info": {
   "codemirror_mode": {
    "name": "ipython",
    "version": 2
   },
   "file_extension": ".py",
   "mimetype": "text/x-python",
   "name": "python",
   "nbconvert_exporter": "python",
   "pygments_lexer": "ipython2",
   "version": "2.7.6"
  }
 },
 "nbformat": 4,
 "nbformat_minor": 5
}
