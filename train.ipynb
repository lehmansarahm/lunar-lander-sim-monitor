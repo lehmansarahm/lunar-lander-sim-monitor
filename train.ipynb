{
 "cells": [
  {
   "metadata": {},
   "cell_type": "markdown",
   "source": [
    "# Lunar Lander Simulation and Runtime Monitor\n",
    "\n",
    "## Action Space\n",
    "\n",
    "The agent has four discrete actions available, each with a corresponding numerical value:\n",
    "\n",
    "* Do nothing (0).\n",
    "* Fire right engine (1).\n",
    "* Fire main engine (2).\n",
    "* Fire left engine (3).\n",
    "\n",
    "## State / Observation Space\n",
    "\n",
    "The agent's observation space consists of a state vector with 8 variables:\n",
    "\n",
    "* Its $(x,y)$ coordinates. The landing pad is always at coordinates $(0,0)$.\n",
    "* Its linear velocities $(\\dot x,\\dot y)$.\n",
    "* Its angle $\\theta$.\n",
    "* Its angular velocity $\\dot \\theta$.\n",
    "* Two booleans, $l$ and $r$, that represent whether each leg is in contact with the ground or not."
   ],
   "id": "8dcc09c2cfa81772"
  },
  {
   "metadata": {
    "collapsed": true,
    "ExecuteTime": {
     "end_time": "2025-10-07T21:26:11.964827Z",
     "start_time": "2025-10-07T21:26:09.631142Z"
    }
   },
   "cell_type": "code",
   "source": "from sim.lander import Lander",
   "id": "a0ff3ec2b0ea96a5",
   "outputs": [],
   "execution_count": 1
  },
  {
   "metadata": {
    "ExecuteTime": {
     "end_time": "2025-10-07T21:26:12.128046Z",
     "start_time": "2025-10-07T21:26:11.970564Z"
    }
   },
   "cell_type": "code",
   "source": [
    "lander = Lander()   # using default property values\n",
    "print(lander)       # quick little sanity check"
   ],
   "id": "78b36a54a91e20ee",
   "outputs": [
    {
     "name": "stdout",
     "output_type": "stream",
     "text": [
      "LUNAR LANDER PROPERTIES:\n",
      "\n",
      "\t Replay Buffer Size: \t\t\t\t100000\n",
      "\t Steps Per Update: \t\t\t\t\t4\n",
      "\t Mini-batch Size: \t\t\t\t\t64\n",
      "\t Target Score to Finish: \t\t\t200.0\n",
      "\n",
      "\t Learning Rate (Alpha): \t\t\t0.001\n",
      "\t Q-func Discount Factor (Gamma): \t0.995\n",
      "\t Soft Update Trade-off Param (Tau): 0.001\n",
      "\n",
      "\t Epsilon - Min Value: \t\t\t\t0.01\n",
      "\t Epsilon - Decay Rate: \t\t\t\t0.995\n",
      "\n",
      "\t Env. Num Avail. Actions: \t\t\t4\n",
      "\t Env. State Size: \t\t\t\t\t(8,)\n"
     ]
    }
   ],
   "execution_count": 2
  },
  {
   "metadata": {
    "ExecuteTime": {
     "end_time": "2025-10-07T21:33:58.141299Z",
     "start_time": "2025-10-07T21:26:12.139910Z"
    }
   },
   "cell_type": "code",
   "source": [
    "# Train using the default parameters:\n",
    "#       num_episodes=2000\n",
    "#       num_time_steps=1000\n",
    "#       num_points=100\n",
    "#       epsilon=1.0\n",
    "\n",
    "# NOTE - We are modifying the value of epsilon as we go so that, as our model improves,\n",
    "# we slowly shift away from exploration and toward exploitation.  The downside to this\n",
    "# is that later episodes take longer to complete because we're running Bellman more often.\n",
    "\n",
    "lander.train_agent()"
   ],
   "id": "5aa4e339b346cf67",
   "outputs": [
    {
     "name": "stdout",
     "output_type": "stream",
     "text": [
      "Episode 100 | Total point average of the last 100 episodes: -146.57\n",
      "Episode 200 | Total point average of the last 100 episodes: -87.970\n",
      "Episode 300 | Total point average of the last 100 episodes: -34.47\n",
      "Episode 400 | Total point average of the last 100 episodes: 53.936\n",
      "Episode 494 | Total point average of the last 100 episodes: 200.53\n",
      "\n",
      "Environment solved in 494 episodes!\n",
      "Buffer component states saved to file ./output/latest_buffer_states.npy with shape (100000, 8)\n",
      "Buffer component actions saved to file ./output/latest_buffer_actions.npy with shape (100000,)\n",
      "Buffer component rewards saved to file ./output/latest_buffer_rewards.npy with shape (100000,)\n",
      "Buffer component next_states saved to file ./output/latest_buffer_next_states.npy with shape (100000, 8)\n",
      "Buffer component done_flags saved to file ./output/latest_buffer_done_flags.npy with shape (100000,)\n",
      "\n",
      "Total Runtime: 466.00 s (7.77 min)\n"
     ]
    }
   ],
   "execution_count": 3
  },
  {
   "metadata": {
    "ExecuteTime": {
     "end_time": "2025-10-07T21:33:58.162046Z",
     "start_time": "2025-10-07T21:33:58.160021Z"
    }
   },
   "cell_type": "code",
   "source": "",
   "id": "5bfec67065da6288",
   "outputs": [],
   "execution_count": null
  }
 ],
 "metadata": {
  "kernelspec": {
   "display_name": "Python 3",
   "language": "python",
   "name": "python3"
  },
  "language_info": {
   "codemirror_mode": {
    "name": "ipython",
    "version": 2
   },
   "file_extension": ".py",
   "mimetype": "text/x-python",
   "name": "python",
   "nbconvert_exporter": "python",
   "pygments_lexer": "ipython2",
   "version": "2.7.6"
  }
 },
 "nbformat": 4,
 "nbformat_minor": 5
}
