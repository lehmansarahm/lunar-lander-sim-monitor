{
 "cells": [
  {
   "metadata": {},
   "cell_type": "markdown",
   "source": [
    "# Lunar Lander Simulation and Runtime Monitor\n",
    "\n",
    "## Action Space\n",
    "\n",
    "The agent has four discrete actions available, each with a corresponding numerical value:\n",
    "\n",
    "* Do nothing (0).\n",
    "* Fire right engine (1).\n",
    "* Fire main engine (2).\n",
    "* Fire left engine (3).\n",
    "\n",
    "## State / Observation Space\n",
    "\n",
    "The agent's observation space consists of a state vector with 8 variables:\n",
    "\n",
    "* Its $(x,y)$ coordinates. The landing pad is always at coordinates $(0,0)$.\n",
    "* Its linear velocities $(\\dot x,\\dot y)$.\n",
    "* Its angle $\\theta$.\n",
    "* Its angular velocity $\\dot \\theta$.\n",
    "* Two booleans, $l$ and $r$, that represent whether each leg is in contact with the ground or not."
   ],
   "id": "8dcc09c2cfa81772"
  },
  {
   "metadata": {
    "collapsed": true,
    "ExecuteTime": {
     "end_time": "2025-10-07T14:44:02.056378Z",
     "start_time": "2025-10-07T14:43:59.864426Z"
    }
   },
   "cell_type": "code",
   "source": "from sim.lander import Lander",
   "id": "a0ff3ec2b0ea96a5",
   "outputs": [],
   "execution_count": 1
  },
  {
   "metadata": {
    "ExecuteTime": {
     "end_time": "2025-10-07T14:44:02.206648Z",
     "start_time": "2025-10-07T14:44:02.064735Z"
    }
   },
   "cell_type": "code",
   "source": [
    "lander = Lander()   # using default property values\n",
    "print(lander)       # quick little sanity check"
   ],
   "id": "78b36a54a91e20ee",
   "outputs": [
    {
     "name": "stdout",
     "output_type": "stream",
     "text": [
      "LUNAR LANDER PROPERTIES:\n",
      "\n",
      "\t Replay Buffer Size: \t\t\t\t100000\n",
      "\t Steps Per Update: \t\t\t\t\t4\n",
      "\t Mini-batch Size: \t\t\t\t\t64\n",
      "\n",
      "\t Learning Rate (Alpha): \t\t\t0.001\n",
      "\t Q-func Discount Factor (Gamma): \t0.995\n",
      "\t Soft Update Trade-off Param (Tau): 0.001\n",
      "\n",
      "\t Epsilon - Min Value: \t\t\t\t0.01\n",
      "\t Epsilon - Decay Rate: \t\t\t\t0.995\n",
      "\n",
      "\t Env. Num Avail. Actions: \t\t\t4\n",
      "\t Env. State Size: \t\t\t\t\t(8,)\n"
     ]
    }
   ],
   "execution_count": 2
  },
  {
   "metadata": {
    "ExecuteTime": {
     "end_time": "2025-10-07T14:52:33.745221Z",
     "start_time": "2025-10-07T14:44:02.227628Z"
    }
   },
   "cell_type": "code",
   "source": [
    "# Train using the default parameters:\n",
    "#       num_episodes=2000\n",
    "#       num_time_steps=1000\n",
    "#       num_points=100\n",
    "#       epsilon=1.0\n",
    "\n",
    "# NOTE - We are modifying the value of epsilon as we go so that, as our model improves,\n",
    "# we slowly shift away from exploration and toward exploitation.  The downside to this\n",
    "# is that later episodes take longer to complete because we're running Bellman more often.\n",
    "\n",
    "lander.train_agent()"
   ],
   "id": "5aa4e339b346cf67",
   "outputs": [
    {
     "name": "stdout",
     "output_type": "stream",
     "text": [
      "Episode 100 | Total point average of the last 100 episodes: -140.91\n",
      "Episode 200 | Total point average of the last 100 episodes: -90.400\n",
      "Episode 300 | Total point average of the last 100 episodes: -66.66\n",
      "Episode 400 | Total point average of the last 100 episodes: 4.5614\n",
      "Episode 500 | Total point average of the last 100 episodes: 138.99\n",
      "Episode 600 | Total point average of the last 100 episodes: 183.87\n",
      "Episode 680 | Total point average of the last 100 episodes: 200.62\n",
      "\n",
      "Environment solved in 680 episodes!\n",
      "\n",
      "Total Runtime: 511.51 s (8.53 min)\n"
     ]
    }
   ],
   "execution_count": 3
  },
  {
   "metadata": {
    "ExecuteTime": {
     "end_time": "2025-10-07T14:52:33.753989Z",
     "start_time": "2025-10-07T14:52:33.752674Z"
    }
   },
   "cell_type": "code",
   "source": "",
   "id": "5bfec67065da6288",
   "outputs": [],
   "execution_count": null
  }
 ],
 "metadata": {
  "kernelspec": {
   "display_name": "Python 3",
   "language": "python",
   "name": "python3"
  },
  "language_info": {
   "codemirror_mode": {
    "name": "ipython",
    "version": 2
   },
   "file_extension": ".py",
   "mimetype": "text/x-python",
   "name": "python",
   "nbconvert_exporter": "python",
   "pygments_lexer": "ipython2",
   "version": "2.7.6"
  }
 },
 "nbformat": 4,
 "nbformat_minor": 5
}
